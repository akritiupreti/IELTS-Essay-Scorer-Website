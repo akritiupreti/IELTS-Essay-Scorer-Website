{
 "cells": [
  {
   "cell_type": "code",
   "execution_count": 1,
   "id": "d29494b0",
   "metadata": {},
   "outputs": [],
   "source": [
    "import google.generativeai as genai\n",
    "import os\n",
    "\n",
    "genai.configure(api_key=os.getenv(\"GEMINI_API_KEY\"))"
   ]
  },
  {
   "cell_type": "code",
   "execution_count": 2,
   "id": "be1fc43e",
   "metadata": {},
   "outputs": [
    {
     "name": "stdout",
     "output_type": "stream",
     "text": [
      "Ah, r/FUTMobile, the digital purgatory where dreams of Ronaldo and Messi are shattered by the crushing weight of packs and the bottomless abyss of the transfer market. A place where:\n",
      "\n",
      "* **Every player is a \"beast\"**:  It's like a never-ending game of \"Whose imaginary stats are bigger?\"\n",
      "* **The \"meta\" changes faster than a Kardashian marriage**: One day it's 4-4-2, the next it's 3-5-2, and the next it's just pure chaos.\n",
      "* **Packs are like slot machines**: You keep pulling, hoping for that one rare pull that will finally make your team competitive, but all you get are bronze goalkeepers.\n",
      "* **Trading is a game of psychology and desperation**: Convincing someone to buy your \"slightly used\" 84-rated midfielder for 35,000 coins is a delicate dance.\n",
      "* **The community is a mixed bag**:  From helpful guides to toxic rage-fueled posts, it's a microcosm of the internet itself.\n",
      "* **\"I'm quitting this game\" is a daily occurrence**: Yet somehow, everyone comes crawling back for more.\n",
      "\n",
      "So, r/FUTMobile, you are the digital equivalent of a casino built on a foundation of disappointment. But hey, at least you provide a sense of community for people who are equally addicted to spending virtual currency.  \n",
      "\n"
     ]
    }
   ],
   "source": [
    "model = genai.GenerativeModel(\"gemini-1.5-flash\")\n",
    "response = model.generate_content(\"Roast the subreddit r/FUTMobile.\")\n",
    "print(response.text)"
   ]
  },
  {
   "cell_type": "code",
   "execution_count": 3,
   "id": "c778c184",
   "metadata": {},
   "outputs": [
    {
     "name": "stdout",
     "output_type": "stream",
     "text": [
      "Here's a breakdown of the scores and feedback for each dimension:\n",
      "\n",
      "**Task Achievement (6.5/9):** \n",
      "\n",
      "* **Feedback:** The essay adequately addresses the prompt by outlining reasons why interviews are reliable and arguing against alternative methods. However, it could benefit from a more balanced discussion and deeper exploration of the limitations of interviews. \n",
      "\n",
      "**Coherence and Cohesion (7/9):**\n",
      "\n",
      "* **Feedback:** The essay is well-structured with clear paragraphs and topic sentences. Transitions between ideas are generally smooth, but some instances of repetition and lack of clear connections could be improved.\n",
      "\n",
      "**Lexical Resource (6.5/9):** \n",
      "\n",
      "* **Feedback:** The essay uses a good range of vocabulary, but some instances of repetition and less precise word choices (e.g., \"good,\" \"major\") could be replaced with more specific and impactful terms.\n",
      "\n",
      "**Grammatical Range and Accuracy (6.5/9):**\n",
      "\n",
      "* **Feedback:** The essay demonstrates a good understanding of grammar and sentence structures. However, some minor grammatical errors (e.g., \"One the other common method\") and awkward phrasing (\"fallible to cheating\") detract from the overall fluency. \n",
      "\n"
     ]
    }
   ],
   "source": [
    "response = model.generate_content(\n",
    "'''\n",
    "This is an IELTS essay written by a candidate.\n",
    "\n",
    "Prompt: \"Interviews form the basic selection criteria for most large companies. However, some people think that an interview is not a reliable method of choosing whom to employ and there are other better methods. To what extent do you agree or disagree?\"\n",
    "Essay: \"It is undeniable that most companies rely on interviews for hiring new employees, but some people believe that this dependence on interviews is wrong and that other alternatives should be preferred as they are better. I believe that interviews are a reliable method, and the other methods cannot be considered more effective. There are many reasons why interviews are suitable for hiring new employees. Firstly, through the interview, the recruiters can get an idea about the personality and social skills of the potential employees. In interviews, there is face-to-face interaction, and the candidates have to answer impromptu questions, from which personality traits can be judged. Also, by asking some case study-type questions, employees can judge traits like the ability to handle pressure, confidence and the ability to think outside the box. In addition, although there are many other methods for hiring, none of them could be considered superior to interviews. One the other common method is the written test, which is good to judge the theoretical knowledge of the person. However, this method cannot give a good idea about the personality of the candidate. By contrast, through interviews, employers can judge both the knowledge and temperament of the potential employee. Moreover, the written test is fallible to cheating as sometimes candidates can take outside help. Another selection process is a group discussion, which is good where a major job requirement is conversational and persuasion skills for instance sales jobs. They are really not suited for technical jobs because these are not customer oriented. On the other hand, interviews hold good for any type of job as the interviewer can frame questions to test the particular skills they require. To conclude, I would like to reiterate that the preference for interviews for hiring among employers is justified as interviews have advantages over other commonly adopted methods.\"\n",
    "The candidate received the following scores:\n",
    "Task Achievement: 6.5/9\n",
    "Coherence and Cohesion: 7/9\n",
    "Lexical Resource: 6.5/9\n",
    "Grammatical Range and Accuracy: 6.5/9\n",
    "Overall: 6.5/9\n",
    "\n",
    "Justify the scores by providing appropriate and honest feedback for each scoring dimension. The feedback for each dimension should be no longer than 50 words.\n",
    "'''\n",
    ")\n",
    "\n",
    "print(response.text)"
   ]
  },
  {
   "cell_type": "code",
   "execution_count": null,
   "id": "196c3cd2",
   "metadata": {},
   "outputs": [],
   "source": []
  }
 ],
 "metadata": {
  "kernelspec": {
   "display_name": "Python 3 (ipykernel)",
   "language": "python",
   "name": "python3"
  },
  "language_info": {
   "codemirror_mode": {
    "name": "ipython",
    "version": 3
   },
   "file_extension": ".py",
   "mimetype": "text/x-python",
   "name": "python",
   "nbconvert_exporter": "python",
   "pygments_lexer": "ipython3",
   "version": "3.9.6"
  }
 },
 "nbformat": 4,
 "nbformat_minor": 5
}
